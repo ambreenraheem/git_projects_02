{
 "cells": [
  {
   "cell_type": "markdown",
   "metadata": {},
   "source": [
    "**Subject of this Notebook: Conditional_Logicals, if,eise & elif\\\n",
    "Authored by: Ambreen Abduraheem\\\n",
    "Where to contact: gmail. account** **"
   ]
  },
  {
   "cell_type": "code",
   "execution_count": 13,
   "metadata": {},
   "outputs": [
    {
     "name": "stdout",
     "output_type": "stream",
     "text": [
      "False\n",
      "True\n",
      "False\n",
      "False\n",
      "True\n"
     ]
    }
   ],
   "source": [
    "PIA_ticket=18,000\n",
    "Americanline_ticket=20,000\n",
    "\n",
    "sugar_price_Rs=75\n",
    "store_price_Rs=85\n",
    "online_price_Rs=70\n",
    "\n",
    "school_fees=1,800\n",
    "coaching_fees=1,800\n",
    "tutoring_fees=1,500\n",
    "\n",
    "print(Americanline_ticket==PIA_ticket)\n",
    "print(sugar_price_Rs>online_price_Rs)\n",
    "print(store_price_Rs<online_price_Rs)\n",
    "print(school_fees==tutoring_fees)\n",
    "print(coaching_fees>=tutoring_fees)\n",
    "\n",
    "\n",
    "\n"
   ]
  },
  {
   "cell_type": "code",
   "execution_count": 14,
   "metadata": {},
   "outputs": [
    {
     "name": "stdout",
     "output_type": "stream",
     "text": [
      "Hammad can not go to school.\n"
     ]
    }
   ],
   "source": [
    "# with if,else and elif conditional\n",
    "hammad_age=4\n",
    "required_age_at_school=5\n",
    "#question:can hammad go to school?\n",
    "if hammad_age==required_age_at_school:\n",
    "    print(\"congratulation ! hammad can join the school.\")\n",
    "elif hammad_age>required_age_at_school:\n",
    "    print(\"Hammad should join the higher secondary school.\")\n",
    "else :\n",
    "    print(\"Hammad can not go to school.\")"
   ]
  },
  {
   "cell_type": "code",
   "execution_count": 16,
   "metadata": {},
   "outputs": [
    {
     "name": "stdout",
     "output_type": "stream",
     "text": [
      "Congratulation! you have got best choise.\n"
     ]
    }
   ],
   "source": [
    "school_fees=1,800\n",
    "coaching_fees=1,800\n",
    "tutoring_fees=1,500\n",
    "if school_fees!=coaching_fees:\n",
    "    print(\"Yes, you are right...\")\n",
    "elif tutoring_fees<school_fees:\n",
    "    print(\"Congratulation! you have got best choise.\")\n",
    "else:\n",
    "    print(\"You might go for better...\")"
   ]
  }
 ],
 "metadata": {
  "kernelspec": {
   "display_name": "Python 3",
   "language": "python",
   "name": "python3"
  },
  "language_info": {
   "codemirror_mode": {
    "name": "ipython",
    "version": 3
   },
   "file_extension": ".py",
   "mimetype": "text/x-python",
   "name": "python",
   "nbconvert_exporter": "python",
   "pygments_lexer": "ipython3",
   "version": "3.12.1"
  }
 },
 "nbformat": 4,
 "nbformat_minor": 2
}
