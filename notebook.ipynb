{
 "cells": [
  {
   "cell_type": "markdown",
   "metadata": {},
   "source": [
    "***Subject of this notebook: String,variables,operators,input variables\\\n",
    "Author of this notebook: Ambreen\\\n",
    "Where to contact: gmail acount***"
   ]
  },
  {
   "cell_type": "code",
   "execution_count": 17,
   "metadata": {},
   "outputs": [],
   "source": [
    "# Variables\n",
    "student_name=(\"Abdulsattar, Muhammad Usman, Muhammad Abu Bakar, Muhammad Hussain, Ahmad Hussain\")\n",
    "ginti_likho=(\"aek,do,teen,char,panch\")\n",
    "bawerchi_khana=(\"cups, plates, jugs, pots, spoons, stove, knife, glass, mugs\")\n",
    "ghari_yan=(\"buses, aeroplne,cars,motorbike,tracktor,truck\")\n",
    "item_schools=(\"pencils,eraser,shorpner,books,notebooks,bags\")"
   ]
  },
  {
   "cell_type": "code",
   "execution_count": 5,
   "metadata": {},
   "outputs": [
    {
     "name": "stdout",
     "output_type": "stream",
     "text": [
      "Hello, dear friends.\n",
      "I am Ambreen.\n",
      "I am learning Python and it's very easy.\n",
      "I think I will learn it as soon as possible.\n",
      "But time is very short.\n",
      "So I have to start from 'Strings'.\n"
     ]
    }
   ],
   "source": [
    "# String\n",
    "print(\"Hello, dear friends.\")\n",
    "print(\"I am Ambreen.\")\n",
    "print(\"I am learning Python and it's very easy.\")\n",
    "print (\"I think I will learn it as soon as possible.\")\n",
    "print(\"But time is very short.\")\n",
    "print(\"So I have to start from 'Strings'.\")"
   ]
  },
  {
   "cell_type": "code",
   "execution_count": 18,
   "metadata": {},
   "outputs": [
    {
     "name": "stdout",
     "output_type": "stream",
     "text": [
      "Abdulsattar, Muhammad Usman, Muhammad Abu Bakar, Muhammad Hussain, Ahmad Hussain\n",
      "aek,do,teen,char,panch\n",
      "cups, plates, jugs, pots, spoons, stove, knife, glass, mugs\n",
      "buses, aeroplne,cars,motorbike,tracktor,truck\n",
      "pencils,eraser,shorpner,books,notebooks,bags\n"
     ]
    }
   ],
   "source": [
    "print(student_name)\n",
    "print(ginti_likho)\n",
    "print(bawerchi_khana)\n",
    "print(ghari_yan)\n",
    "print(item_schools)"
   ]
  },
  {
   "cell_type": "code",
   "execution_count": 23,
   "metadata": {},
   "outputs": [
    {
     "name": "stdout",
     "output_type": "stream",
     "text": [
      "47.0\n",
      "-21\n",
      "35\n",
      "1012.6\n",
      "111.0\n"
     ]
    }
   ],
   "source": [
    "# operators\n",
    "print(77+46-22/11*38)\n",
    "print(900%11-35+5)\n",
    "print(83-24*2)\n",
    "print(1000+45/25*7)\n",
    "print((43-6)*12/4)"
   ]
  },
  {
   "cell_type": "code",
   "execution_count": 5,
   "metadata": {},
   "outputs": [],
   "source": [
    "# input variables\n",
    "name=input(\"Excuse me! May I know your name? Please...\")\n",
    "greeting= \"Hello! my dear friend,  \"\n",
    "age=input(\"Please don't mind, How old are you?...\")\n",
    "surprise=\"Waoo ma'am you are still young=..\""
   ]
  },
  {
   "cell_type": "code",
   "execution_count": 6,
   "metadata": {},
   "outputs": [
    {
     "name": "stdout",
     "output_type": "stream",
     "text": [
      "Hello! my dear friend,   Ambreen Abdulraheem\n",
      "I am,40.. Waoo ma'am you are still young=..\n"
     ]
    }
   ],
   "source": [
    "print(greeting, name)\n",
    "print(age,surprise)"
   ]
  }
 ],
 "metadata": {
  "kernelspec": {
   "display_name": "Python 3",
   "language": "python",
   "name": "python3"
  },
  "language_info": {
   "codemirror_mode": {
    "name": "ipython",
    "version": 3
   },
   "file_extension": ".py",
   "mimetype": "text/x-python",
   "name": "python",
   "nbconvert_exporter": "python",
   "pygments_lexer": "ipython3",
   "version": "3.12.1"
  }
 },
 "nbformat": 4,
 "nbformat_minor": 2
}
